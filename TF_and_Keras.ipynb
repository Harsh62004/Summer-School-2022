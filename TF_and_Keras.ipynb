{
  "nbformat": 4,
  "nbformat_minor": 0,
  "metadata": {
    "colab": {
      "provenance": [],
      "toc_visible": true,
      "include_colab_link": true
    },
    "kernelspec": {
      "name": "python3",
      "display_name": "Python 3"
    },
    "language_info": {
      "name": "python"
    },
    "gpuClass": "standard"
  },
  "cells": [
    {
      "cell_type": "markdown",
      "metadata": {
        "id": "view-in-github",
        "colab_type": "text"
      },
      "source": [
        "<a href=\"https://colab.research.google.com/github/Harsh62004/Summer_School_2022/blob/main/TF_and_Keras.ipynb\" target=\"_parent\"><img src=\"https://colab.research.google.com/assets/colab-badge.svg\" alt=\"Open In Colab\"/></a>"
      ]
    },
    {
      "cell_type": "markdown",
      "source": [
        "# Introduction to Tensorflow and Keras"
      ],
      "metadata": {
        "id": "vsEOceU4016c"
      }
    },
    {
      "cell_type": "markdown",
      "source": [
        "TensorFlow is an end-to-end platform for machine learning. It supports the following:\n",
        "\n",
        "1. Multidimensional-array based numeric computation (similar to NumPy).\n",
        "2. GPU and distributed processing\n",
        "3. Automatic differentiation\n",
        "4. Model construction, training, and export\n",
        "5. And more"
      ],
      "metadata": {
        "id": "AxmeaDrucPyL"
      }
    },
    {
      "cell_type": "code",
      "source": [
        "import numpy as np\n",
        "import matplotlib.pyplot as plt\n",
        "import tensorflow as tf\n",
        "from tensorflow import keras\n",
        "from tensorflow.keras import layers\n",
        "import time\n",
        "import seaborn as sns"
      ],
      "metadata": {
        "id": "NQJyqItuoPPq"
      },
      "execution_count": 1,
      "outputs": []
    },
    {
      "cell_type": "markdown",
      "source": [
        "## Tensors\n",
        "\n",
        "Tensorflow uses tensors for operation. Tensor is similar to array in numpy, but it is immutable, and has uniform type."
      ],
      "metadata": {
        "id": "bcJoDFnAcvqD"
      }
    },
    {
      "cell_type": "code",
      "execution_count": 4,
      "metadata": {
        "id": "d_Dy4HUpxRay"
      },
      "outputs": [],
      "source": [
        "# Define a tensor using tf.constant\n",
        "tensor =   tf.constant([1, 2, 3])"
      ]
    },
    {
      "cell_type": "code",
      "source": [
        "# Print the tensor\n",
        "print(tensor)"
      ],
      "metadata": {
        "id": "1TSl5kvro2MX",
        "colab": {
          "base_uri": "https://localhost:8080/"
        },
        "outputId": "60613864-beb5-4823-f298-5059ca901cac"
      },
      "execution_count": 5,
      "outputs": [
        {
          "output_type": "stream",
          "name": "stdout",
          "text": [
            "tf.Tensor([1 2 3], shape=(3,), dtype=int32)\n"
          ]
        }
      ]
    },
    {
      "cell_type": "code",
      "source": [
        "# Operations with tensor, multiply with 2\n",
        "tensor= tensor * 2"
      ],
      "metadata": {
        "id": "PNTJG9pIo2_7"
      },
      "execution_count": 7,
      "outputs": []
    },
    {
      "cell_type": "code",
      "source": [
        "# mltiply tensor with itself\n",
        "tensor = tensor * tensor"
      ],
      "metadata": {
        "id": "paJA8g2epJC5"
      },
      "execution_count": 8,
      "outputs": []
    },
    {
      "cell_type": "code",
      "source": [
        "# Try changing value of tensor\n",
        "tensor = tf.constant([10, 20])"
      ],
      "metadata": {
        "id": "jfiClBV5pMmh"
      },
      "execution_count": 9,
      "outputs": []
    },
    {
      "cell_type": "markdown",
      "source": [
        "## Variable"
      ],
      "metadata": {
        "id": "36LuMMDzsGP7"
      }
    },
    {
      "cell_type": "code",
      "source": [
        "# define variable with tf.Variable\n",
        "variable =  tf.Variable([[1.0, 2.0, 3.0]])\n",
        "print(variable)"
      ],
      "metadata": {
        "id": "5zRLcCOErL2N",
        "colab": {
          "base_uri": "https://localhost:8080/"
        },
        "outputId": "3a318d7f-6425-404f-c27a-11f648184e17"
      },
      "execution_count": 31,
      "outputs": [
        {
          "output_type": "stream",
          "name": "stdout",
          "text": [
            "<tf.Variable 'Variable:0' shape=(1, 3) dtype=float32, numpy=array([[1., 2., 3.]], dtype=float32)>\n"
          ]
        }
      ]
    },
    {
      "cell_type": "code",
      "source": [
        "# use assign for changing value\n",
        "variable = variable.assign([[10.0, 100.0, 400.0]])"
      ],
      "metadata": {
        "id": "sJADJ5lrrYvr"
      },
      "execution_count": 32,
      "outputs": []
    },
    {
      "cell_type": "code",
      "source": [
        "print(variable)"
      ],
      "metadata": {
        "id": "JgsGIUgnr6TO",
        "colab": {
          "base_uri": "https://localhost:8080/"
        },
        "outputId": "7d494bc0-d7df-40ab-d6de-38b4de565427"
      },
      "execution_count": 34,
      "outputs": [
        {
          "output_type": "stream",
          "name": "stdout",
          "text": [
            "<tf.Variable 'UnreadVariable' shape=(1, 3) dtype=float32, numpy=array([[ 10., 100., 400.]], dtype=float32)>\n"
          ]
        }
      ]
    },
    {
      "cell_type": "markdown",
      "source": [
        "## Automatic Differentiation"
      ],
      "metadata": {
        "id": "FrNq4njytL-g"
      }
    },
    {
      "cell_type": "code",
      "source": [
        "# Find derivative of y = 2 * x\n",
        "x = tf.Variable(50.0)\n",
        "\n",
        "with tf.GradientTape() as tape:\n",
        "  # write your equation here\n",
        "  y = 2 * x\n",
        "\n",
        "dy_dx = tape.gradient(y, x)"
      ],
      "metadata": {
        "id": "7NqC4xOKtPBj"
      },
      "execution_count": 36,
      "outputs": []
    },
    {
      "cell_type": "code",
      "source": [
        "# Find derivative of y = x ^ 3\n",
        "x = tf.Variable(2.0)\n",
        "\n",
        "with tf.GradientTape() as tape:\n",
        "  # write equation here\n",
        "  y = x ** 3\n",
        "\n",
        "dy_dx = tape.gradient(y, x)"
      ],
      "metadata": {
        "id": "2Np5VIyytcm7"
      },
      "execution_count": 39,
      "outputs": []
    },
    {
      "cell_type": "code",
      "source": [
        "# chained differentiation\n",
        "x = tf.Variable(2.0)\n",
        "\n",
        "with tf.GradientTape() as tape:\n",
        "  y = x ** 2\n",
        "  z = tf.sin(y)\n",
        "\n",
        "tape.gradient(z, x)"
      ],
      "metadata": {
        "id": "8yCUBpBguO2_",
        "colab": {
          "base_uri": "https://localhost:8080/"
        },
        "outputId": "42a4fcfc-284f-487a-d981-173e80381a43"
      },
      "execution_count": 41,
      "outputs": [
        {
          "output_type": "execute_result",
          "data": {
            "text/plain": [
              "<tf.Tensor: shape=(), dtype=float32, numpy=-2.6145744>"
            ]
          },
          "metadata": {},
          "execution_count": 41
        }
      ]
    },
    {
      "cell_type": "code",
      "source": [
        "# Partial derivative\n",
        "x = tf.Variable(2.0)\n",
        "y = tf.Variable(3.0)\n",
        "\n",
        "with tf.GradientTape() as tape:\n",
        "  z = x ** 2 + y ** 2\n",
        "\n",
        "# tape.gradient(z, x)\n",
        "# tape.gradient(z, y)"
      ],
      "metadata": {
        "id": "JbfyiCj7jR8l"
      },
      "execution_count": 40,
      "outputs": []
    },
    {
      "cell_type": "markdown",
      "source": [
        "## Graph"
      ],
      "metadata": {
        "id": "yKHFapwlzcIj"
      }
    },
    {
      "cell_type": "code",
      "source": [
        "@tf.function\n",
        "def func(x):\n",
        "  print('In function')\n",
        "  return tf.math.reduce_mean(x)"
      ],
      "metadata": {
        "id": "woPtzOHmwsWz"
      },
      "execution_count": 42,
      "outputs": []
    },
    {
      "cell_type": "code",
      "source": [
        "x = tf.constant([3, 4, 5])"
      ],
      "metadata": {
        "id": "68urpEIn00NH"
      },
      "execution_count": 43,
      "outputs": []
    },
    {
      "cell_type": "code",
      "source": [
        "start = time.time()\n",
        "func(x)\n",
        "time.time() - start"
      ],
      "metadata": {
        "id": "Dn1QkcV306v6",
        "colab": {
          "base_uri": "https://localhost:8080/"
        },
        "outputId": "b5d4fc72-ea82-49eb-c7a9-4a9d25395964"
      },
      "execution_count": 44,
      "outputs": [
        {
          "output_type": "stream",
          "name": "stdout",
          "text": [
            "In function\n"
          ]
        },
        {
          "output_type": "execute_result",
          "data": {
            "text/plain": [
              "0.12322115898132324"
            ]
          },
          "metadata": {},
          "execution_count": 44
        }
      ]
    },
    {
      "cell_type": "markdown",
      "source": [
        "## Layers"
      ],
      "metadata": {
        "id": "Ha2dInhfll6Y"
      }
    },
    {
      "cell_type": "markdown",
      "source": [
        "Layers are basically functions that have a reusable mathematical structure and also have trainable variables."
      ],
      "metadata": {
        "id": "mTOca7eFm0Xp"
      }
    },
    {
      "cell_type": "markdown",
      "source": [
        "### Dense\n",
        "\n",
        "\n",
        "https://keras.io/api/layers/core_layers/dense/"
      ],
      "metadata": {
        "id": "G2V6DFvJM0Wp"
      }
    },
    {
      "cell_type": "code",
      "source": [
        "l1 = layers.Dense(1)"
      ],
      "metadata": {
        "id": "xP64w1TGmsm1"
      },
      "execution_count": 45,
      "outputs": []
    },
    {
      "cell_type": "code",
      "source": [
        "x = tf.constant([2.0], shape=(1, 1))"
      ],
      "metadata": {
        "id": "Intr65520HKA"
      },
      "execution_count": 46,
      "outputs": []
    },
    {
      "cell_type": "code",
      "source": [
        "l1(x)"
      ],
      "metadata": {
        "id": "csofjeES0I9a",
        "colab": {
          "base_uri": "https://localhost:8080/"
        },
        "outputId": "41170e5c-1e79-491d-82cd-2b81bef30b47"
      },
      "execution_count": 47,
      "outputs": [
        {
          "output_type": "execute_result",
          "data": {
            "text/plain": [
              "<tf.Tensor: shape=(1, 1), dtype=float32, numpy=array([[-1.3094099]], dtype=float32)>"
            ]
          },
          "metadata": {},
          "execution_count": 47
        }
      ]
    },
    {
      "cell_type": "code",
      "source": [
        "l1.variables"
      ],
      "metadata": {
        "id": "CouC3ifW09q5",
        "colab": {
          "base_uri": "https://localhost:8080/"
        },
        "outputId": "493d0024-a204-46c6-989f-d61824a35389"
      },
      "execution_count": 48,
      "outputs": [
        {
          "output_type": "execute_result",
          "data": {
            "text/plain": [
              "[<tf.Variable 'dense/kernel:0' shape=(1, 1) dtype=float32, numpy=array([[-0.6547049]], dtype=float32)>,\n",
              " <tf.Variable 'dense/bias:0' shape=(1,) dtype=float32, numpy=array([0.], dtype=float32)>]"
            ]
          },
          "metadata": {},
          "execution_count": 48
        }
      ]
    },
    {
      "cell_type": "markdown",
      "source": [
        "### Flatten\n",
        "\n",
        "https://keras.io/api/layers/reshaping_layers/flatten/"
      ],
      "metadata": {
        "id": "Wz9wMXA7M4dM"
      }
    },
    {
      "cell_type": "code",
      "source": [
        "l2 = layers.Flatten()"
      ],
      "metadata": {
        "id": "MBAAq7Jz1paK"
      },
      "execution_count": 49,
      "outputs": []
    },
    {
      "cell_type": "code",
      "source": [
        "x = tf.constant([[1, 2, 4, 6], [5, 6, 7, 8]])\n",
        "x"
      ],
      "metadata": {
        "id": "Uhtd5Hu43Khd",
        "colab": {
          "base_uri": "https://localhost:8080/"
        },
        "outputId": "4188553b-162f-4143-dcfc-87958f7f3dcb"
      },
      "execution_count": 50,
      "outputs": [
        {
          "output_type": "execute_result",
          "data": {
            "text/plain": [
              "<tf.Tensor: shape=(2, 4), dtype=int32, numpy=\n",
              "array([[1, 2, 4, 6],\n",
              "       [5, 6, 7, 8]], dtype=int32)>"
            ]
          },
          "metadata": {},
          "execution_count": 50
        }
      ]
    },
    {
      "cell_type": "code",
      "source": [
        "l2(x)"
      ],
      "metadata": {
        "id": "MDJS2X-sM-0K",
        "colab": {
          "base_uri": "https://localhost:8080/"
        },
        "outputId": "aae59973-cb7c-4214-a0e7-3877d785e515"
      },
      "execution_count": 51,
      "outputs": [
        {
          "output_type": "execute_result",
          "data": {
            "text/plain": [
              "<tf.Tensor: shape=(2, 4), dtype=int32, numpy=\n",
              "array([[1, 2, 4, 6],\n",
              "       [5, 6, 7, 8]], dtype=int32)>"
            ]
          },
          "metadata": {},
          "execution_count": 51
        }
      ]
    },
    {
      "cell_type": "code",
      "source": [
        "x = tf.expand_dims(x, axis=0)"
      ],
      "metadata": {
        "id": "HWk_QWak3epU"
      },
      "execution_count": 52,
      "outputs": []
    },
    {
      "cell_type": "code",
      "source": [
        "l2(x)"
      ],
      "metadata": {
        "id": "956alPx03Pq4",
        "colab": {
          "base_uri": "https://localhost:8080/"
        },
        "outputId": "d82537fa-7f8e-45d6-f753-114f77e92fb9"
      },
      "execution_count": 53,
      "outputs": [
        {
          "output_type": "execute_result",
          "data": {
            "text/plain": [
              "<tf.Tensor: shape=(1, 8), dtype=int32, numpy=array([[1, 2, 4, 6, 5, 6, 7, 8]], dtype=int32)>"
            ]
          },
          "metadata": {},
          "execution_count": 53
        }
      ]
    },
    {
      "cell_type": "markdown",
      "source": [
        "### Reshape\n",
        "\n",
        "https://keras.io/api/layers/reshaping_layers/reshape/"
      ],
      "metadata": {
        "id": "dd0vam6i3rF4"
      }
    },
    {
      "cell_type": "code",
      "source": [
        "x = tf.constant([[1, 2, 4, 6, 5, 6, 7, 8]])\n",
        "x"
      ],
      "metadata": {
        "id": "-DnZJoDmNOha",
        "colab": {
          "base_uri": "https://localhost:8080/"
        },
        "outputId": "a146ca20-3ff7-49c5-cfec-2a4af134bc99"
      },
      "execution_count": 54,
      "outputs": [
        {
          "output_type": "execute_result",
          "data": {
            "text/plain": [
              "<tf.Tensor: shape=(1, 8), dtype=int32, numpy=array([[1, 2, 4, 6, 5, 6, 7, 8]], dtype=int32)>"
            ]
          },
          "metadata": {},
          "execution_count": 54
        }
      ]
    },
    {
      "cell_type": "code",
      "source": [
        "l3 = layers.Reshape((4, 2))"
      ],
      "metadata": {
        "id": "Nde9guEHNS0d"
      },
      "execution_count": 55,
      "outputs": []
    },
    {
      "cell_type": "code",
      "source": [
        "l3(x)"
      ],
      "metadata": {
        "id": "OqY4oCl1Npwk",
        "colab": {
          "base_uri": "https://localhost:8080/"
        },
        "outputId": "8eb0d386-ec6f-4b86-df98-a4ecfbbbdb71"
      },
      "execution_count": 56,
      "outputs": [
        {
          "output_type": "execute_result",
          "data": {
            "text/plain": [
              "<tf.Tensor: shape=(1, 4, 2), dtype=int32, numpy=\n",
              "array([[[1, 2],\n",
              "        [4, 6],\n",
              "        [5, 6],\n",
              "        [7, 8]]], dtype=int32)>"
            ]
          },
          "metadata": {},
          "execution_count": 56
        }
      ]
    },
    {
      "cell_type": "markdown",
      "source": [
        "### Conv\n",
        "\n",
        "https://keras.io/api/layers/convolution_layers/convolution2d/"
      ],
      "metadata": {
        "id": "XYYUq2dmhjB-"
      }
    },
    {
      "cell_type": "code",
      "source": [
        "inp = np.arange(24, dtype=float).reshape(1, 6, 4, 1)\n",
        "x = tf.constant(inp)\n",
        "x"
      ],
      "metadata": {
        "colab": {
          "base_uri": "https://localhost:8080/"
        },
        "id": "4y68mRcThwxl",
        "outputId": "a9943872-55c5-4d4a-9636-6787753a8130"
      },
      "execution_count": 57,
      "outputs": [
        {
          "output_type": "execute_result",
          "data": {
            "text/plain": [
              "<tf.Tensor: shape=(1, 6, 4, 1), dtype=float64, numpy=\n",
              "array([[[[ 0.],\n",
              "         [ 1.],\n",
              "         [ 2.],\n",
              "         [ 3.]],\n",
              "\n",
              "        [[ 4.],\n",
              "         [ 5.],\n",
              "         [ 6.],\n",
              "         [ 7.]],\n",
              "\n",
              "        [[ 8.],\n",
              "         [ 9.],\n",
              "         [10.],\n",
              "         [11.]],\n",
              "\n",
              "        [[12.],\n",
              "         [13.],\n",
              "         [14.],\n",
              "         [15.]],\n",
              "\n",
              "        [[16.],\n",
              "         [17.],\n",
              "         [18.],\n",
              "         [19.]],\n",
              "\n",
              "        [[20.],\n",
              "         [21.],\n",
              "         [22.],\n",
              "         [23.]]]])>"
            ]
          },
          "metadata": {},
          "execution_count": 57
        }
      ]
    },
    {
      "cell_type": "code",
      "source": [
        "l4 = layers.Conv2D(1, (3, 3))"
      ],
      "metadata": {
        "id": "98FpZ27xhkfo"
      },
      "execution_count": 58,
      "outputs": []
    },
    {
      "cell_type": "code",
      "source": [
        "output = l4(x)\n",
        "output = np.squeeze(output.numpy())"
      ],
      "metadata": {
        "id": "dZFMc8BziBxe"
      },
      "execution_count": 59,
      "outputs": []
    },
    {
      "cell_type": "code",
      "source": [
        "weights = np.squeeze(l4.weights[0].numpy())\n",
        "\n",
        "fig, ax = plt.subplots(1, 3, figsize=(25, 8))\n",
        "\n",
        "plt.subplot(1, 3, 1)\n",
        "sns.heatmap(weights, annot=True, fmt='.5g', cbar=False)\n",
        "plt.title('Filter')\n",
        "\n",
        "plt.subplot(1, 3, 2)\n",
        "sns.heatmap(np.squeeze(inp), annot=True, fmt='.5g', cbar=False)\n",
        "plt.title('Input')\n",
        "\n",
        "plt.subplot(1, 3, 3)\n",
        "sns.heatmap(np.squeeze(output), annot=True, fmt='.5g', cbar=False)\n",
        "plt.title('Output')\n",
        "\n",
        "plt.show()"
      ],
      "metadata": {
        "colab": {
          "base_uri": "https://localhost:8080/",
          "height": 533
        },
        "id": "EGYPSeXUinhp",
        "outputId": "3e9ec22f-116d-437c-8e98-1f14cd2d7e1c"
      },
      "execution_count": 60,
      "outputs": [
        {
          "output_type": "display_data",
          "data": {
            "text/plain": [
              "<Figure size 2500x800 with 3 Axes>"
            ],
            "image/png": "[encoded data removed]"
          },
          "metadata": {}
        }
      ]
    },
    {
      "cell_type": "code",
      "source": [],
      "metadata": {
        "id": "By2KgzvMLrag"
      },
      "execution_count": null,
      "outputs": []
    },
    {
      "cell_type": "code",
      "source": [
        "squeezed = np.squeeze(inp)\n",
        "(weights * squeezed[0:3, 0:3]).sum()"
      ],
      "metadata": {
        "colab": {
          "base_uri": "https://localhost:8080/"
        },
        "id": "hSpWaHqulQ1J",
        "outputId": "2a784e44-1946-4e63-aed6-e5e5236b4b46"
      },
      "execution_count": 61,
      "outputs": [
        {
          "output_type": "execute_result",
          "data": {
            "text/plain": [
              "-1.0939431190490723"
            ]
          },
          "metadata": {},
          "execution_count": 61
        }
      ]
    },
    {
      "cell_type": "code",
      "source": [],
      "metadata": {
        "id": "8KlPi-DzMC87"
      },
      "execution_count": null,
      "outputs": []
    },
    {
      "cell_type": "markdown",
      "source": [
        "### MaxPool"
      ],
      "metadata": {
        "id": "H7wW6x80JnKU"
      }
    },
    {
      "cell_type": "code",
      "source": [
        "inp = np.arange(16, dtype=float)[::-1].reshape(1, 4, 4, 1)\n",
        "x = tf.constant(inp)\n",
        "x"
      ],
      "metadata": {
        "colab": {
          "base_uri": "https://localhost:8080/"
        },
        "id": "qo-0GwUCJo-6",
        "outputId": "ed6ec985-5783-47ec-a79f-3cf934c73873"
      },
      "execution_count": 62,
      "outputs": [
        {
          "output_type": "execute_result",
          "data": {
            "text/plain": [
              "<tf.Tensor: shape=(1, 4, 4, 1), dtype=float64, numpy=\n",
              "array([[[[15.],\n",
              "         [14.],\n",
              "         [13.],\n",
              "         [12.]],\n",
              "\n",
              "        [[11.],\n",
              "         [10.],\n",
              "         [ 9.],\n",
              "         [ 8.]],\n",
              "\n",
              "        [[ 7.],\n",
              "         [ 6.],\n",
              "         [ 5.],\n",
              "         [ 4.]],\n",
              "\n",
              "        [[ 3.],\n",
              "         [ 2.],\n",
              "         [ 1.],\n",
              "         [ 0.]]]])>"
            ]
          },
          "metadata": {},
          "execution_count": 62
        }
      ]
    },
    {
      "cell_type": "code",
      "source": [
        "l5 = layers.MaxPooling2D(pool_size=(2, 2))"
      ],
      "metadata": {
        "id": "wGCGKLghJv1a"
      },
      "execution_count": 63,
      "outputs": []
    },
    {
      "cell_type": "code",
      "source": [
        "output = l5(x)\n",
        "output"
      ],
      "metadata": {
        "colab": {
          "base_uri": "https://localhost:8080/"
        },
        "id": "6ESQ_QnJJ2Xq",
        "outputId": "6400f4ce-090b-41f6-c6e5-8dcf2c1e2c69"
      },
      "execution_count": 64,
      "outputs": [
        {
          "output_type": "execute_result",
          "data": {
            "text/plain": [
              "<tf.Tensor: shape=(1, 2, 2, 1), dtype=float32, numpy=\n",
              "array([[[[15.],\n",
              "         [13.]],\n",
              "\n",
              "        [[ 7.],\n",
              "         [ 5.]]]], dtype=float32)>"
            ]
          },
          "metadata": {},
          "execution_count": 64
        }
      ]
    },
    {
      "cell_type": "code",
      "source": [
        "weights = np.squeeze(l4.weights[0].numpy())\n",
        "\n",
        "fig, ax = plt.subplots(1, 2, figsize=(25, 8))\n",
        "\n",
        "plt.subplot(1, 2, 1)\n",
        "sns.heatmap(np.squeeze(inp), annot=True, fmt='.5g', cbar=False)\n",
        "plt.title('Input')\n",
        "\n",
        "plt.subplot(1, 2, 2)\n",
        "sns.heatmap(np.squeeze(output), annot=True, fmt='.5g', cbar=False)\n",
        "plt.title('Output')\n",
        "\n",
        "plt.show()"
      ],
      "metadata": {
        "colab": {
          "base_uri": "https://localhost:8080/",
          "height": 533
        },
        "id": "iP5BHfOUJ6nr",
        "outputId": "66ae6f28-5679-4778-ac0d-b65d524729e4"
      },
      "execution_count": 65,
      "outputs": [
        {
          "output_type": "display_data",
          "data": {
            "text/plain": [
              "<Figure size 2500x800 with 2 Axes>"
            ],
            "image/png": "[encoded data removed]"
          },
          "metadata": {}
        }
      ]
    },
    {
      "cell_type": "markdown",
      "source": [
        "## Model"
      ],
      "metadata": {
        "id": "BS8JFDrhNysh"
      }
    },
    {
      "cell_type": "markdown",
      "source": [
        "Model is basically collection of layers. Overall it is a function which computes output for passed input."
      ],
      "metadata": {
        "id": "JwdQizH_OAVn"
      }
    },
    {
      "cell_type": "code",
      "source": [
        "model = keras.Sequential()\n",
        "model.add(layers.Dense(3, input_shape=(1, )))\n",
        "model.add(layers.Dense(3, activation='relu'))\n",
        "model.add(layers.Dense(1, activation='relu'))"
      ],
      "metadata": {
        "id": "Yvn73oSLNz2j"
      },
      "execution_count": 66,
      "outputs": []
    },
    {
      "cell_type": "code",
      "source": [
        "model.summary()"
      ],
      "metadata": {
        "id": "sI3JGbSGRabp",
        "colab": {
          "base_uri": "https://localhost:8080/"
        },
        "outputId": "5cf91c7e-b148-48dd-c7f6-8bbeaa8c8987"
      },
      "execution_count": 67,
      "outputs": [
        {
          "output_type": "stream",
          "name": "stdout",
          "text": [
            "Model: \"sequential\"\n",
            "_________________________________________________________________\n",
            " Layer (type)                Output Shape              Param #   \n",
            "=================================================================\n",
            " dense_1 (Dense)             (None, 3)                 6         \n",
            "                                                                 \n",
            " dense_2 (Dense)             (None, 3)                 12        \n",
            "                                                                 \n",
            " dense_3 (Dense)             (None, 1)                 4         \n",
            "                                                                 \n",
            "=================================================================\n",
            "Total params: 22\n",
            "Trainable params: 22\n",
            "Non-trainable params: 0\n",
            "_________________________________________________________________\n"
          ]
        }
      ]
    },
    {
      "cell_type": "code",
      "source": [
        "model.compile(optimizer='', loss='', metrics=[''])  # https://keras.io/api/models/model_training_apis/"
      ],
      "metadata": {
        "id": "RKxymdfkTwY0"
      },
      "execution_count": 70,
      "outputs": []
    },
    {
      "cell_type": "code",
      "source": [
        "model.fit(x, y, epochs=2, batch_size=4)"
      ],
      "metadata": {
        "id": "Yo5sZ9gbVvIf"
      },
      "execution_count": null,
      "outputs": []
    },
    {
      "cell_type": "code",
      "source": [
        "model.predict()"
      ],
      "metadata": {
        "id": "ZLb38TzEWkAM"
      },
      "execution_count": null,
      "outputs": []
    },
    {
      "cell_type": "code",
      "source": [],
      "metadata": {
        "id": "D0S3iTacWsoH"
      },
      "execution_count": null,
      "outputs": []
    },
    {
      "cell_type": "markdown",
      "source": [
        "## Hands-on"
      ],
      "metadata": {
        "id": "HW85p8aEdALU"
      }
    },
    {
      "cell_type": "code",
      "source": [
        "mnist = tf.keras.datasets.mnist\n",
        "\n",
        "(x_train, y_train), (x_test, y_test) = mnist.load_data()\n",
        "x_train, x_test = x_train / 255.0, x_test / 255.0"
      ],
      "metadata": {
        "id": "lUB9qvgHdBIT",
        "colab": {
          "base_uri": "https://localhost:8080/"
        },
        "outputId": "cd617e70-3055-4f29-b6ab-479be307e5dc"
      },
      "execution_count": 77,
      "outputs": [
        {
          "output_type": "stream",
          "name": "stdout",
          "text": [
            "Downloading data from https://storage.googleapis.com/tensorflow/tf-keras-datasets/mnist.npz\n",
            "11490434/11490434 [==============================] - 0s 0us/step\n"
          ]
        }
      ]
    },
    {
      "cell_type": "code",
      "source": [
        "x_train.shape, y_train.shape"
      ],
      "metadata": {
        "id": "RMtLfGIQdCQG",
        "colab": {
          "base_uri": "https://localhost:8080/"
        },
        "outputId": "46009927-021a-4bdb-e296-652a7ddc49bd"
      },
      "execution_count": 78,
      "outputs": [
        {
          "output_type": "execute_result",
          "data": {
            "text/plain": [
              "((60000, 28, 28), (60000,))"
            ]
          },
          "metadata": {},
          "execution_count": 78
        }
      ]
    },
    {
      "cell_type": "code",
      "source": [
        "index = 100\n",
        "plt.imshow(x_train[index])"
      ],
      "metadata": {
        "id": "v-r9KksHdD3m",
        "colab": {
          "base_uri": "https://localhost:8080/",
          "height": 447
        },
        "outputId": "7c7e15b9-b7ba-46d5-d1a4-99943e3b2d58"
      },
      "execution_count": 79,
      "outputs": [
        {
          "output_type": "execute_result",
          "data": {
            "text/plain": [
              "<matplotlib.image.AxesImage at 0x7f26b4842310>"
            ]
          },
          "metadata": {},
          "execution_count": 79
        },
        {
          "output_type": "display_data",
          "data": {
            "text/plain": [
              "<Figure size 640x480 with 1 Axes>"
            ],
            "image/png": "[encoded data removed]"
          },
          "metadata": {}
        }
      ]
    },
    {
      "cell_type": "code",
      "source": [
        "y_train[index]"
      ],
      "metadata": {
        "id": "gwecxKB4dQg0",
        "colab": {
          "base_uri": "https://localhost:8080/"
        },
        "outputId": "bb2b77b3-bca9-4e3d-b6e6-1073ff83641f"
      },
      "execution_count": 80,
      "outputs": [
        {
          "output_type": "execute_result",
          "data": {
            "text/plain": [
              "5"
            ]
          },
          "metadata": {},
          "execution_count": 80
        }
      ]
    },
    {
      "cell_type": "code",
      "source": [
        "model = keras.Sequential()\n",
        "model.add(layers.Flatten(input_shape=(28, 28)))\n",
        "model.add(layers.Dense(128, activation='relu'))\n",
        "model.add(tf.keras.layers.Dense(10))"
      ],
      "metadata": {
        "id": "fVTF57alddHK"
      },
      "execution_count": 81,
      "outputs": []
    },
    {
      "cell_type": "code",
      "source": [
        "predictions = model.predict(np.expand_dims(x_train[100], axis=0))\n",
        "predictions"
      ],
      "metadata": {
        "id": "q155FqE5dmZ1",
        "colab": {
          "base_uri": "https://localhost:8080/"
        },
        "outputId": "30de0730-187c-4199-dad9-90a3eded18a8"
      },
      "execution_count": 82,
      "outputs": [
        {
          "output_type": "stream",
          "name": "stdout",
          "text": [
            "1/1 [==============================] - 0s 185ms/step\n"
          ]
        },
        {
          "output_type": "execute_result",
          "data": {
            "text/plain": [
              "array([[ 0.1891322 , -0.3768394 ,  0.3373436 , -0.02695857,  0.2167669 ,\n",
              "        -0.10668021,  0.02385318, -0.42235038, -0.5254945 ,  0.5787451 ]],\n",
              "      dtype=float32)"
            ]
          },
          "metadata": {},
          "execution_count": 82
        }
      ]
    },
    {
      "cell_type": "code",
      "source": [
        "act = layers.Softmax()\n",
        "act(predictions)"
      ],
      "metadata": {
        "id": "EEC512pbdxs7",
        "colab": {
          "base_uri": "https://localhost:8080/"
        },
        "outputId": "ad7867c6-3e04-40c6-a6e4-d5bfd2250485"
      },
      "execution_count": 83,
      "outputs": [
        {
          "output_type": "execute_result",
          "data": {
            "text/plain": [
              "<tf.Tensor: shape=(1, 10), dtype=float32, numpy=\n",
              "array([[0.11545794, 0.06555797, 0.13390326, 0.0930201 , 0.11869308,\n",
              "        0.08589227, 0.09786876, 0.06264123, 0.0565022 , 0.17046317]],\n",
              "      dtype=float32)>"
            ]
          },
          "metadata": {},
          "execution_count": 83
        }
      ]
    },
    {
      "cell_type": "code",
      "source": [
        "tf.keras.losses.SparseCategoricalCrossentropy(from_logits=True)"
      ],
      "metadata": {
        "id": "WVUX8xf8eIO9",
        "colab": {
          "base_uri": "https://localhost:8080/"
        },
        "outputId": "762cc4a7-e413-4149-f966-8cca114c7512"
      },
      "execution_count": 84,
      "outputs": [
        {
          "output_type": "execute_result",
          "data": {
            "text/plain": [
              "<keras.losses.SparseCategoricalCrossentropy at 0x7f26b48e6c10>"
            ]
          },
          "metadata": {},
          "execution_count": 84
        }
      ]
    },
    {
      "cell_type": "code",
      "source": [
        "model.compile(optimizer='adam',\n",
        "              loss=keras.losses.SparseCategoricalCrossentropy(from_logits=True),\n",
        "              metrics=['accuracy'])"
      ],
      "metadata": {
        "id": "T1U0fwEKejMS"
      },
      "execution_count": 85,
      "outputs": []
    },
    {
      "cell_type": "code",
      "source": [
        "model.fit(x_train, y_train, epochs=5)"
      ],
      "metadata": {
        "id": "J47qV-ynel0v",
        "colab": {
          "base_uri": "https://localhost:8080/"
        },
        "outputId": "a5fb1c8f-b32d-4319-dad7-37a38efd5122"
      },
      "execution_count": 86,
      "outputs": [
        {
          "output_type": "stream",
          "name": "stdout",
          "text": [
            "Epoch 1/5\n",
            "1875/1875 [==============================] - 9s 4ms/step - loss: 0.2606 - accuracy: 0.9254\n",
            "Epoch 2/5\n",
            "1875/1875 [==============================] - 7s 4ms/step - loss: 0.1141 - accuracy: 0.9667\n",
            "Epoch 3/5\n",
            "1875/1875 [==============================] - 8s 4ms/step - loss: 0.0774 - accuracy: 0.9768\n",
            "Epoch 4/5\n",
            "1875/1875 [==============================] - 9s 5ms/step - loss: 0.0577 - accuracy: 0.9831\n",
            "Epoch 5/5\n",
            "1875/1875 [==============================] - 9s 5ms/step - loss: 0.0446 - accuracy: 0.9864\n"
          ]
        },
        {
          "output_type": "execute_result",
          "data": {
            "text/plain": [
              "<keras.callbacks.History at 0x7f26b46c0dc0>"
            ]
          },
          "metadata": {},
          "execution_count": 86
        }
      ]
    },
    {
      "cell_type": "code",
      "source": [
        "plt.imshow(x_test[0])"
      ],
      "metadata": {
        "id": "sB4PdgEofTgD",
        "colab": {
          "base_uri": "https://localhost:8080/",
          "height": 447
        },
        "outputId": "01863895-30cc-4d3d-e5ed-b37120c6073a"
      },
      "execution_count": 87,
      "outputs": [
        {
          "output_type": "execute_result",
          "data": {
            "text/plain": [
              "<matplotlib.image.AxesImage at 0x7f26b457f730>"
            ]
          },
          "metadata": {},
          "execution_count": 87
        },
        {
          "output_type": "display_data",
          "data": {
            "text/plain": [
              "<Figure size 640x480 with 1 Axes>"
            ],
            "image/png": "[encoded data removed]"
          },
          "metadata": {}
        }
      ]
    },
    {
      "cell_type": "code",
      "source": [
        "model.predict(np.expand_dims(x_test[0], axis=0))"
      ],
      "metadata": {
        "id": "pXBVjh2VfYja",
        "colab": {
          "base_uri": "https://localhost:8080/"
        },
        "outputId": "2ca6982f-db64-4cbc-c618-cfd2528d5e16"
      },
      "execution_count": 88,
      "outputs": [
        {
          "output_type": "stream",
          "name": "stdout",
          "text": [
            "1/1 [==============================] - 0s 59ms/step\n"
          ]
        },
        {
          "output_type": "execute_result",
          "data": {
            "text/plain": [
              "array([[ -4.8838   , -10.353727 ,  -3.7950797,   3.3531892, -10.695137 ,\n",
              "         -3.5229363, -10.283407 ,  10.356309 ,  -4.043708 ,  -1.2758579]],\n",
              "      dtype=float32)"
            ]
          },
          "metadata": {},
          "execution_count": 88
        }
      ]
    },
    {
      "cell_type": "code",
      "source": [],
      "metadata": {
        "id": "0DWUe3GffdL0"
      },
      "execution_count": null,
      "outputs": []
    },
    {
      "cell_type": "code",
      "source": [],
      "metadata": {
        "id": "83oWZhTjfpcX"
      },
      "execution_count": null,
      "outputs": []
    }
  ]
}